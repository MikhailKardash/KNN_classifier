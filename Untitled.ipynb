{
 "cells": [
  {
   "cell_type": "code",
   "execution_count": 1,
   "id": "scenic-advocate",
   "metadata": {},
   "outputs": [],
   "source": [
    "from KNN_classifier import KNNClassifier"
   ]
  },
  {
   "cell_type": "code",
   "execution_count": 2,
   "id": "conscious-clearance",
   "metadata": {},
   "outputs": [],
   "source": [
    "points = [\n",
    "    [1,1,1],\n",
    "    [2,2,2],\n",
    "    [3,3,3]]\n",
    "labels = [0,1,0]"
   ]
  },
  {
   "cell_type": "code",
   "execution_count": 3,
   "id": "dynamic-anderson",
   "metadata": {},
   "outputs": [
    {
     "name": "stdout",
     "output_type": "stream",
     "text": [
      "Expecting data to have dimensionality: 3\n",
      "Using k = 1\n"
     ]
    }
   ],
   "source": [
    "classifier = KNNClassifier(dims=3)"
   ]
  },
  {
   "cell_type": "code",
   "execution_count": 4,
   "id": "popular-tooth",
   "metadata": {},
   "outputs": [
    {
     "name": "stdout",
     "output_type": "stream",
     "text": [
      "Inserted\n",
      "Inserted\n",
      "Inserted\n"
     ]
    }
   ],
   "source": [
    "for point,label in zip(points,labels):\n",
    "    classifier.insert(point,label)"
   ]
  },
  {
   "cell_type": "code",
   "execution_count": 5,
   "id": "floral-potential",
   "metadata": {},
   "outputs": [],
   "source": [
    "new_point = [2,2,2]"
   ]
  },
  {
   "cell_type": "code",
   "execution_count": 6,
   "id": "affected-peoples",
   "metadata": {},
   "outputs": [
    {
     "data": {
      "text/plain": [
       "1"
      ]
     },
     "execution_count": 6,
     "metadata": {},
     "output_type": "execute_result"
    }
   ],
   "source": [
    "classifier.predict(new_point)"
   ]
  },
  {
   "cell_type": "code",
   "execution_count": 7,
   "id": "spanish-baker",
   "metadata": {},
   "outputs": [
    {
     "data": {
      "text/plain": [
       "tensor([[1., 1., 1.],\n",
       "        [2., 2., 2.],\n",
       "        [3., 3., 3.]])"
      ]
     },
     "execution_count": 7,
     "metadata": {},
     "output_type": "execute_result"
    }
   ],
   "source": [
    "classifier.data"
   ]
  },
  {
   "cell_type": "code",
   "execution_count": 8,
   "id": "rocky-excitement",
   "metadata": {},
   "outputs": [
    {
     "data": {
      "text/plain": [
       "[0, 1, 0]"
      ]
     },
     "execution_count": 8,
     "metadata": {},
     "output_type": "execute_result"
    }
   ],
   "source": [
    "classifier.labels"
   ]
  },
  {
   "cell_type": "code",
   "execution_count": 19,
   "id": "changed-royal",
   "metadata": {},
   "outputs": [
    {
     "name": "stdout",
     "output_type": "stream",
     "text": [
      "Warning: Make sure that incides are correct\n",
      "{'good': 0, 'bad': 1}\n"
     ]
    }
   ],
   "source": [
    "classifier.set_tags(['good','bad'])"
   ]
  },
  {
   "cell_type": "code",
   "execution_count": 10,
   "id": "ethical-israeli",
   "metadata": {},
   "outputs": [
    {
     "data": {
      "text/plain": [
       "'bad'"
      ]
     },
     "execution_count": 10,
     "metadata": {},
     "output_type": "execute_result"
    }
   ],
   "source": [
    "classifier.predict(new_point)"
   ]
  },
  {
   "cell_type": "code",
   "execution_count": 11,
   "id": "transsexual-arrow",
   "metadata": {},
   "outputs": [
    {
     "name": "stdout",
     "output_type": "stream",
     "text": [
      "Inserted\n",
      "Inserted\n"
     ]
    }
   ],
   "source": [
    "classifier.insert([4,5,6],'bad')\n",
    "classifier.insert([-1,-4,-8],'good')"
   ]
  },
  {
   "cell_type": "code",
   "execution_count": 12,
   "id": "experienced-convertible",
   "metadata": {},
   "outputs": [
    {
     "name": "stdout",
     "output_type": "stream",
     "text": [
      "tensor([[ 1.,  1.,  1.],\n",
      "        [ 2.,  2.,  2.],\n",
      "        [ 3.,  3.,  3.],\n",
      "        [ 4.,  5.,  6.],\n",
      "        [-1., -4., -8.]])\n",
      "[0, 1, 0, 1, 0]\n"
     ]
    }
   ],
   "source": [
    "print(classifier.data)\n",
    "print(classifier.labels)"
   ]
  },
  {
   "cell_type": "code",
   "execution_count": 13,
   "id": "proprietary-malaysia",
   "metadata": {},
   "outputs": [],
   "source": [
    "import numpy as np\n",
    "import torch"
   ]
  },
  {
   "cell_type": "code",
   "execution_count": 14,
   "id": "handmade-privacy",
   "metadata": {},
   "outputs": [
    {
     "name": "stdout",
     "output_type": "stream",
     "text": [
      "Inserted\n",
      "Inserted\n"
     ]
    }
   ],
   "source": [
    "classifier.insert(np.asarray([11,5,6]),'good')\n",
    "classifier.insert(torch.Tensor([556,3,2]),0)"
   ]
  },
  {
   "cell_type": "code",
   "execution_count": 15,
   "id": "greatest-worse",
   "metadata": {},
   "outputs": [
    {
     "name": "stdout",
     "output_type": "stream",
     "text": [
      "tensor([[  1.,   1.,   1.],\n",
      "        [  2.,   2.,   2.],\n",
      "        [  3.,   3.,   3.],\n",
      "        [  4.,   5.,   6.],\n",
      "        [ -1.,  -4.,  -8.],\n",
      "        [ 11.,   5.,   6.],\n",
      "        [556.,   3.,   2.]])\n",
      "[0, 1, 0, 1, 0, 0, 0]\n"
     ]
    }
   ],
   "source": [
    "print(classifier.data)\n",
    "print(classifier.labels)"
   ]
  },
  {
   "cell_type": "code",
   "execution_count": 16,
   "id": "fitted-software",
   "metadata": {},
   "outputs": [
    {
     "name": "stdout",
     "output_type": "stream",
     "text": [
      "Inserted\n"
     ]
    }
   ],
   "source": [
    "classifier.insert([-1,-4,9],3)"
   ]
  },
  {
   "cell_type": "code",
   "execution_count": 17,
   "id": "banned-opposition",
   "metadata": {},
   "outputs": [
    {
     "name": "stdout",
     "output_type": "stream",
     "text": [
      "tensor([[  1.,   1.,   1.],\n",
      "        [  2.,   2.,   2.],\n",
      "        [  3.,   3.,   3.],\n",
      "        [  4.,   5.,   6.],\n",
      "        [ -1.,  -4.,  -8.],\n",
      "        [ 11.,   5.,   6.],\n",
      "        [556.,   3.,   2.],\n",
      "        [ -1.,  -4.,   9.]])\n",
      "[0, 1, 0, 1, 0, 0, 0, 3]\n"
     ]
    }
   ],
   "source": [
    "print(classifier.data)\n",
    "print(classifier.labels)"
   ]
  },
  {
   "cell_type": "code",
   "execution_count": null,
   "id": "rational-maryland",
   "metadata": {},
   "outputs": [],
   "source": []
  }
 ],
 "metadata": {
  "kernelspec": {
   "display_name": "Python 3",
   "language": "python",
   "name": "python3"
  },
  "language_info": {
   "codemirror_mode": {
    "name": "ipython",
    "version": 3
   },
   "file_extension": ".py",
   "mimetype": "text/x-python",
   "name": "python",
   "nbconvert_exporter": "python",
   "pygments_lexer": "ipython3",
   "version": "3.8.5"
  }
 },
 "nbformat": 4,
 "nbformat_minor": 5
}
